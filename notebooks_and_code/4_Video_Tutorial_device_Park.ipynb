{
 "cells": [
  {
   "cell_type": "code",
   "execution_count": 1,
   "id": "033fe9c3",
   "metadata": {},
   "outputs": [],
   "source": [
    "import shapely as sh\n",
    "import shapely\n",
    "import phidl.geometry as pg\n",
    "from phidl.path import Path,CrossSection\n",
    "import matplotlib.pyplot as plt\n",
    "%matplotlib qt\n",
    "from phidl.quickplotter import quickplot2 as qp\n",
    "import numpy as np\n",
    "import utilities as util"
   ]
  },
  {
   "cell_type": "code",
   "execution_count": 2,
   "id": "67f93987",
   "metadata": {},
   "outputs": [],
   "source": [
    "alpha = 20\n",
    "rad = 50\n",
    "l=50\n",
    "n_loops = 5\n",
    "side_leg_length = 75\n",
    "serpentine_width=74\n",
    "outer_ring_rad=5000\n",
    "outer_ring_width=1000\n",
    "taper_start= serpentine_width\n",
    "taper_end = 780\n",
    "elec_radius=10\n",
    "\n",
    "def serpentine(alpha,rad,l,n_loops,side_leg_length,buffer_radius=10,buffer_out_angle_radius=80):\n",
    "    alpha =  alpha * np.pi/ 180\n",
    "    t = np.linspace(-alpha,np.pi+alpha,100)[::-1]\n",
    "\n",
    "    x,y = np.cos(t)*rad,np.sin(t)*rad\n",
    "    y=y-np.min(y)+l/2*np.cos(alpha)\n",
    "\n",
    "    l_coords = np.array([[x[-1],y[-1]],[x[-1]-l*np.sin(alpha),y[-1]-l*np.cos(alpha)]])\n",
    "\n",
    "    x=np.hstack((x,l_coords[:,0]))\n",
    "    y=np.hstack((y,l_coords[:,1]))\n",
    "\n",
    "    shift = 2*rad - 2*rad*(1-np.cos(alpha)) - l*np.sin(alpha)\n",
    "\n",
    "    newx,newy= x + 2*rad - 2*rad*(1-np.cos(alpha)) - l*np.sin(alpha), -y\n",
    "\n",
    "    all_x,all_y=[],[]\n",
    "\n",
    "    for i in range(5):\n",
    "        plt.plot(x+i*shift,y*(-1)**(i-1))\n",
    "        all_x.append(x+i*shift)\n",
    "        all_y.append(y*(-1)**(i-1))\n",
    "    all_x,all_y =np.concatenate(all_x)[:-1],np.concatenate(all_y)[:-1]\n",
    "\n",
    "    all_x = np.hstack((all_x[0]+l/2*np.sin(alpha),all_x,all_x[-1]-l/2*np.sin(alpha)))\n",
    "    all_x = np.hstack((all_x[0]-side_leg_length,all_x,all_x[-1]+side_leg_length))\n",
    "    all_y = np.hstack((0,0,all_y,0,0))\n",
    "    all_x-=all_x[0]\n",
    "    span_serpentine = all_x[-1]-all_x[0]\n",
    "\n",
    "    serp_string = shapely.LineString(  np.vstack((all_x,all_y)).T)\n",
    "\n",
    "    closing_string = sh.LineString([sh.Point(all_x[0],0), sh.Point(all_x[0],3*rad), sh.Point(all_x[-1],3*rad), sh.Point(all_x[-1],0)])\n",
    "    rounded_serpentine=sh.Polygon(sh.line_merge(closing_string.union(serp_string))).buffer(buffer_out_angle_radius).buffer(-buffer_out_angle_radius).exterior.difference(closing_string.buffer(.1))\n",
    "\n",
    "    # ph_path=Path(rounded_serpentine.coords)\n",
    "    # X=CrossSection()\n",
    "    # X.add(width=5)\n",
    "    # qp(ph_path.extrude(X))\n",
    "    return rounded_serpentine.buffer(buffer_radius),span_serpentine,rounded_serpentine\n",
    "\n",
    "base_pol,span,rounded_serpentine=serpentine(alpha=10,rad=110,l=70,n_loops=5,side_leg_length=350,buffer_radius=serpentine_width/2.,buffer_out_angle_radius=55)"
   ]
  },
  {
   "cell_type": "code",
   "execution_count": 3,
   "id": "bc77de95",
   "metadata": {},
   "outputs": [
    {
     "data": {
      "text/plain": [
       "<phidl.quickplotter.Viewer at 0x7fd40f588ca0>"
      ]
     },
     "execution_count": 3,
     "metadata": {},
     "output_type": "execute_result"
    }
   ],
   "source": [
    "center=sh.Point(0,0).buffer(150)\n",
    "n_arms=8\n",
    "serpentines=[]\n",
    "for i in range(n_arms):\n",
    "    angle = 360/n_arms*i\n",
    "    serpentines.append(sh.affinity.rotate(base_pol,angle=angle,origin=(0,0)))\n",
    "    electrodes_supports=sh.unary_union(rounded_serpentine.interpolate([0.19,0.5,.82],normalized=True))\n",
    "    serpentines.append( sh.affinity.rotate(electrodes_supports.buffer(80),angle=angle,origin=(0,0)))\n",
    "    \n",
    "dev=util.shapely_to_phidl(sh.unary_union(serpentines).union(center))\n",
    "\n",
    "for i in range(n_arms):\n",
    "    angle = 360/n_arms*i\n",
    "    taper = pg.taper(length=outer_ring_rad-outer_ring_width/2-taper_end-span,\n",
    "                    width1=taper_start,width2=taper_end).movex(span).rotate(angle)\n",
    "    square = pg.rectangle( (taper_end,taper_end)).movey(-taper_end/2.).movex(outer_ring_rad-outer_ring_width/2.-taper_end).rotate(angle)\n",
    "    dev<<taper\n",
    "    dev<<square\n",
    "qp(dev)\n",
    "dev<<pg.ring(radius=outer_ring_rad,width=outer_ring_width)\n",
    "qp(dev)"
   ]
  },
  {
   "cell_type": "code",
   "execution_count": 4,
   "id": "4e76f169",
   "metadata": {},
   "outputs": [],
   "source": [
    "sh_dev = util.phidl_to_shapely(dev).buffer(1).buffer(1)\n",
    "router = util.RoutingLayout(sh_dev,border_tolerance=5)"
   ]
  },
  {
   "cell_type": "code",
   "execution_count": 5,
   "id": "005483f3",
   "metadata": {},
   "outputs": [],
   "source": [
    "router.lay_down_lines(n_lines=15,gap_um=5)"
   ]
  },
  {
   "cell_type": "code",
   "execution_count": 6,
   "id": "ab50444b",
   "metadata": {},
   "outputs": [],
   "source": [
    "elec_center_mtp=sh.unary_union(rounded_serpentine.interpolate([0.19,0.5,.82],normalized=True))\n",
    "top_xtr_pts = sh.affinity.translate(elec_center_mtp,yoff=80)\n",
    "bot_xtr_pts = sh.affinity.translate(elec_center_mtp,yoff=-80)\n",
    "\n",
    "elec_boundaries=[]\n",
    "elec_extra_pts = []\n",
    "elec_boundaries.append(sh.Point(0,0).buffer(50).boundary)\n",
    "elec_extra_pts.append(sh.MultiPoint([sh.Point(-10,0),sh.Point(10,0)]))\n",
    "for i in range(n_arms):\n",
    "    angle = 360/n_arms*i\n",
    "    for bdr,t,b in zip(elec_center_mtp.geoms,top_xtr_pts.geoms,bot_xtr_pts.geoms):\n",
    "        elec_boundaries.append(sh.affinity.rotate( bdr.buffer(elec_radius).boundary, angle=angle, origin=(0,0)))\n",
    "        elec_extra_pts.append( sh.affinity.rotate( sh.MultiPoint([t,b]), angle=angle, origin=(0,0)))\n",
    "\n",
    "router.add_electrodes(elec_boundaries,elec_extra_pts,type='electrode')\n"
   ]
  },
  {
   "cell_type": "code",
   "execution_count": 7,
   "id": "61a88e63",
   "metadata": {},
   "outputs": [
    {
     "data": {
      "text/plain": [
       "<phidl.quickplotter.Viewer at 0x7fd40f588ca0>"
      ]
     },
     "execution_count": 7,
     "metadata": {},
     "output_type": "execute_result"
    }
   ],
   "source": [
    "qp(util.multilinestrings_to_phidl(router.all_route_lines))"
   ]
  },
  {
   "cell_type": "code",
   "execution_count": null,
   "id": "fd84eee6",
   "metadata": {},
   "outputs": [],
   "source": []
  },
  {
   "cell_type": "code",
   "execution_count": 8,
   "id": "cc1d44d1",
   "metadata": {},
   "outputs": [],
   "source": [
    "pad_boundaries=[]\n",
    "pad_extra_pts=[]\n",
    "for i in range(len(elec_boundaries)):\n",
    "    angle = ( 270 - len(elec_boundaries)//2 + i ) * np.pi/180\n",
    "    r=outer_ring_rad+outer_ring_width//2 \n",
    "    x,y= r*np.cos(angle),r*np.sin(angle)\n",
    "    xpt,ypt=(r-outer_ring_width//2*1.2)*np.cos(angle), (r-outer_ring_width//2*1.2)*np.sin(angle)\n",
    "    pad_boundaries.append( sh.Point(x,y).buffer(10).boundary)\n",
    "    pad_extra_pts.append( sh.MultiPoint([sh.Point(xpt,ypt)]))"
   ]
  },
  {
   "cell_type": "code",
   "execution_count": 9,
   "id": "fa5f8a27",
   "metadata": {},
   "outputs": [],
   "source": [
    "router.add_electrodes(pad_boundaries,pad_extra_pts,type='pad')\n"
   ]
  },
  {
   "cell_type": "code",
   "execution_count": 10,
   "id": "21938ba0",
   "metadata": {},
   "outputs": [
    {
     "data": {
      "text/plain": [
       "<phidl.quickplotter.Viewer at 0x7fd40f588ca0>"
      ]
     },
     "execution_count": 10,
     "metadata": {},
     "output_type": "execute_result"
    }
   ],
   "source": [
    "qp(util.multilinestrings_to_phidl(router.all_route_lines))"
   ]
  },
  {
   "cell_type": "code",
   "execution_count": 11,
   "id": "5943745c",
   "metadata": {},
   "outputs": [
    {
     "name": "stdout",
     "output_type": "stream",
     "text": [
      "Routing successful\n"
     ]
    }
   ],
   "source": [
    "router.route()"
   ]
  },
  {
   "cell_type": "code",
   "execution_count": null,
   "id": "13ce6e5e",
   "metadata": {},
   "outputs": [],
   "source": []
  },
  {
   "cell_type": "code",
   "execution_count": 12,
   "id": "c6139a2c",
   "metadata": {},
   "outputs": [],
   "source": [
    "full_dev=pg.Device()"
   ]
  },
  {
   "cell_type": "code",
   "execution_count": null,
   "id": "c0ea974c",
   "metadata": {},
   "outputs": [],
   "source": []
  },
  {
   "cell_type": "code",
   "execution_count": 13,
   "id": "b72fad03",
   "metadata": {
    "scrolled": true
   },
   "outputs": [
    {
     "data": {
      "text/plain": [
       "DeviceReference (parent Device \"Unnamed\", ports [], origin (0, 0), rotation 0, x_reflection False)"
      ]
     },
     "execution_count": 13,
     "metadata": {},
     "output_type": "execute_result"
    }
   ],
   "source": [
    "full_dev<<dev\n",
    "qp(full_dev)\n",
    "elec_lines=util.multilinestrings_to_phidl(sh.unary_union(router.all_elec_pad_routes_smooth),width=2,layer=1)\n",
    "full_dev<<elec_lines\n"
   ]
  },
  {
   "cell_type": "code",
   "execution_count": 14,
   "id": "59aeb7e3",
   "metadata": {},
   "outputs": [
    {
     "data": {
      "text/plain": [
       "<phidl.quickplotter.Viewer at 0x7fd40f588ca0>"
      ]
     },
     "execution_count": 14,
     "metadata": {},
     "output_type": "execute_result"
    }
   ],
   "source": [
    "qp(full_dev)"
   ]
  },
  {
   "cell_type": "code",
   "execution_count": null,
   "id": "d1b33d54",
   "metadata": {},
   "outputs": [],
   "source": []
  }
 ],
 "metadata": {
  "kernelspec": {
   "display_name": "Python 3 (ipykernel)",
   "language": "python",
   "name": "python3"
  },
  "language_info": {
   "codemirror_mode": {
    "name": "ipython",
    "version": 3
   },
   "file_extension": ".py",
   "mimetype": "text/x-python",
   "name": "python",
   "nbconvert_exporter": "python",
   "pygments_lexer": "ipython3",
   "version": "3.11.3"
  }
 },
 "nbformat": 4,
 "nbformat_minor": 5
}
