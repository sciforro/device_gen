{
 "cells": [
  {
   "cell_type": "code",
   "execution_count": 229,
   "id": "1a9ded47",
   "metadata": {},
   "outputs": [],
   "source": [
    "import numpy as np\n",
    "import matplotlib.pyplot as plt\n",
    "%matplotlib qt\n",
    "import phidl.geometry as pg\n",
    "import shapely as sh\n",
    "from phidl.quickplotter import quickplot2 as qp\n",
    "\n",
    "\n",
    "def shapely_to_phidl(sh_pol):\n",
    "    d1=pg.Device()\n",
    "    d1.add_polygon(sh_pol.exterior.xy)\n",
    "    \n",
    "    d2=pg.Device()\n",
    "    for interiors in sh_pol.interiors:\n",
    "        d2.add_polygon(interiors.xy)\n",
    "    return pg.boolean(d1,d2,operation='A-B')\n",
    "def merge_line(line):\n",
    "    new_linestring=[]\n",
    "    for i in range(len(line)-1):\n",
    "        l1=line[i]\n",
    "        new_linestring.append(sh.LineString(l1))\n",
    "        l2=line[i+1]\n",
    "        l1_a,l1_b,l2_a,l2_b=l1[0,:],l1[-1,:],l2[0,:],l2[-1,:]\n",
    "        connect_table=np.sum(np.array([l1_a-l2_a,l1_a-l2_b,l1_b-l2_a,l1_b-l2_b])**2,axis=1) #want l1_b-l2_a to be min\n",
    "        if np.min(connect_table)!=0: #there's a gap between lines\n",
    "            if np.argmin(connect_table)==0:\n",
    "                new_linestring.append(sh.LineString([sh.Point(l1_a),sh.Point(l2_a)]))\n",
    "            if np.argmin(connect_table)==1:\n",
    "                new_linestring.append(sh.LineString([sh.Point(l1_a),sh.Point(l2_b)]))\n",
    "            if np.argmin(connect_table)==2:\n",
    "                new_linestring.append(sh.LineString([sh.Point(l1_b),sh.Point(l2_a)]))\n",
    "            if np.argmin(connect_table)==3:\n",
    "                new_linestring.append(sh.LineString([sh.Point(l1_b),sh.Point(l2_b)]))\n",
    "    new_linestring.append(sh.LineString(line[-1]))\n",
    "    return sh.line_merge(sh.unary_union(new_linestring))\n",
    "def smooth_route(route):\n",
    "    from geomdl import NURBS,knotvector\n",
    "    # Create a 3-dimensional B-spline Curve\n",
    "    curve = NURBS.Curve()\n",
    "\n",
    "    # Set degree\n",
    "    curve.degree = 3\n",
    "    curve.ctrlpts = np.asarray(sh.LineString(route.interpolate(np.linspace(0,1,int(route.length/5)),normalized=True)).coords)\n",
    "    curve.knotvector = knotvector.generate(curve.degree,len(curve.ctrlpts))\n",
    "    # Set knot vector\n",
    "\n",
    "    # Set evaluation delta (controls the number of curve points)\n",
    "    curve.delta = 1/1000\n",
    "\n",
    "    # Get curve points (the curve will be automatically evaluated)\n",
    "    curve_points = np.asarray(curve.evalpts)[:,:]\n",
    "    return sh.LineString(curve_points)\n",
    "\n"
   ]
  },
  {
   "cell_type": "code",
   "execution_count": 2,
   "id": "bc972ed5",
   "metadata": {},
   "outputs": [
    {
     "data": {
      "text/plain": [
       "<phidl.quickplotter.Viewer at 0x7fe562f4cd30>"
      ]
     },
     "execution_count": 2,
     "metadata": {},
     "output_type": "execute_result"
    }
   ],
   "source": [
    "t = np.linspace(0,2*np.pi,100)\n",
    "rad=50\n",
    "sh_dev=[]\n",
    "for ang in np.arange(0,2*np.pi,2/3*np.pi):\n",
    "    cx,cy=np.cos(ang)*35,np.sin(ang)*35\n",
    "    x,y=np.cos(t)*rad+cx,np.sin(t)*rad+cy\n",
    "    sh_dev.append(sh.LineString( np.vstack((x,y)).T))\n",
    "outer_circ = sh.LineString( np.vstack((200*np.cos(t),200*np.sin(t))).T).buffer(15)\n",
    "three_rings=sh.unary_union(sh_dev).buffer(5)\n",
    "cross_bar= (sh.LineString([sh.Point(-300,-300),sh.Point(300,300)])).buffer(8)\n",
    "cutout=sh.Polygon(outer_circ.interiors[0]).difference(sh.Polygon(three_rings.exterior))\n",
    "cross_bar=cross_bar.intersection(cutout)\n",
    "\n",
    "dev = outer_circ.union(three_rings).union(cross_bar).buffer(5).buffer(-5)\n",
    "qp(shapely_to_phidl(dev))"
   ]
  },
  {
   "cell_type": "code",
   "execution_count": 3,
   "id": "0c793b03",
   "metadata": {},
   "outputs": [],
   "source": [
    "import pygmsh,gmsh\n",
    "import numpy as np\n",
    "\n",
    "def get_coordinates(line):\n",
    "    return np.asarray(line.xy).T[::2,:][:-1,:]\n",
    "\n",
    "with pygmsh.occ.Geometry() as geom:\n",
    "    outline=geom.add_polygon( get_coordinates(dev.exterior))\n",
    "    holes= [geom.add_polygon( get_coordinates(loop) ) for loop in dev.interiors]\n",
    "    geom.boolean_difference(outline, holes)\n",
    "   \n",
    "    gmsh.option.setNumber('Mesh.MeshSizeMax',5)\n",
    "\n",
    "    mesh =geom.generate_mesh()"
   ]
  },
  {
   "cell_type": "code",
   "execution_count": 4,
   "id": "ca75daef",
   "metadata": {},
   "outputs": [
    {
     "data": {
      "text/plain": [
       "[<matplotlib.lines.Line2D at 0x7fe538316d10>,\n",
       " <matplotlib.lines.Line2D at 0x7fe538317b90>]"
      ]
     },
     "execution_count": 4,
     "metadata": {},
     "output_type": "execute_result"
    }
   ],
   "source": [
    "x,y,_=mesh.points.T\n",
    "tri=mesh.cells[1].data\n",
    "plt.triplot(x,y,triangles=tri)"
   ]
  },
  {
   "cell_type": "code",
   "execution_count": 5,
   "id": "950b5266",
   "metadata": {},
   "outputs": [],
   "source": [
    "from centerline.geometry import Centerline\n",
    "skeleton=sh.line_merge(Centerline(dev).geometry)\n",
    "\n",
    "for el in skeleton.geoms:\n",
    "    plt.plot(*el.xy)"
   ]
  },
  {
   "cell_type": "code",
   "execution_count": 6,
   "id": "29d5625e",
   "metadata": {},
   "outputs": [],
   "source": [
    "import utilities as util"
   ]
  },
  {
   "cell_type": "code",
   "execution_count": 7,
   "id": "1e098542",
   "metadata": {},
   "outputs": [],
   "source": [
    "router=util.RoutingLayout(dev,border_tolerance=2)"
   ]
  },
  {
   "cell_type": "code",
   "execution_count": 8,
   "id": "cdde6dc4",
   "metadata": {},
   "outputs": [],
   "source": [
    "plt.plot(*dev.exterior.xy,color='b')\n",
    "for interior in dev.interiors:\n",
    "    plt.plot(*interior.xy,color='b')\n",
    "for g in router.skeleton.geoms:\n",
    "    plt.plot(*g.xy,color='r')"
   ]
  },
  {
   "cell_type": "code",
   "execution_count": 9,
   "id": "b3dd3f7d",
   "metadata": {},
   "outputs": [],
   "source": [
    "skel=router.skeleton\n",
    "skel.buffer(1)\n",
    "\n",
    "def plot_pol(pol,color='k'):\n",
    "    plt.plot(*pol.exterior.xy,color=color)\n",
    "    for interior in pol.interiors:\n",
    "        plt.plot(*interior.xy,color=color)\n",
    "for i in range(10):\n",
    "    plot_pol(skel.buffer(i))"
   ]
  },
  {
   "cell_type": "code",
   "execution_count": null,
   "id": "2f199b21",
   "metadata": {},
   "outputs": [],
   "source": []
  },
  {
   "cell_type": "code",
   "execution_count": 10,
   "id": "5a00ef80",
   "metadata": {},
   "outputs": [],
   "source": [
    "def make_routes(gap,n_routes,skel,dev):\n",
    "    all_lines=[]\n",
    "    for n in range(n_routes):\n",
    "        lines=skel.buffer((n+1)*gap).intersection(dev).boundary\n",
    "        all_lines.append(lines)\n",
    "    return sh.unary_union(sh.line_merge(all_lines))"
   ]
  },
  {
   "cell_type": "code",
   "execution_count": 11,
   "id": "56b8ef40",
   "metadata": {},
   "outputs": [],
   "source": [
    "route_lines=make_routes(gap=1.1,n_routes=5,skel=skel,dev=dev.buffer(-2))\n",
    "all_lines = sh.line_merge(route_lines).union(skel)"
   ]
  },
  {
   "cell_type": "code",
   "execution_count": 12,
   "id": "c15ad690",
   "metadata": {},
   "outputs": [],
   "source": [
    "for g in all_lines.geoms:\n",
    "    plt.plot(*g.xy)"
   ]
  },
  {
   "cell_type": "code",
   "execution_count": 13,
   "id": "ad95f856",
   "metadata": {},
   "outputs": [],
   "source": [
    "for g in skel.geoms:\n",
    "    plt.plot(*g.xy)\n",
    "for g in skel.boundary.geoms:\n",
    "    plt.plot(*g.xy,'o')\n"
   ]
  },
  {
   "cell_type": "code",
   "execution_count": 14,
   "id": "b63a3591",
   "metadata": {},
   "outputs": [],
   "source": [
    "waypoints=[]\n",
    "for point in skel.boundary.geoms:\n",
    "    waypoints.append(point.buffer(point.distance(dev.buffer(-2).boundary)))\n",
    "criss_cross_lines = []\n",
    "for g in sh.unary_union(waypoints).geoms:\n",
    "    multiplicity=len(g.intersection(skel).geoms)\n",
    "    if multiplicity==3:\n",
    "        criss_cross_lines.append( sh.affinity.rotate(all_lines.intersection(g),angle=180,origin=g.centroid))\n",
    "    else:\n",
    "        criss_cross_lines.append( sh.affinity.rotate(all_lines.intersection(g),angle=45,origin=g.centroid))\n",
    "criss_cross_lines=sh.unary_union(criss_cross_lines)"
   ]
  },
  {
   "cell_type": "code",
   "execution_count": 15,
   "id": "39f3e4c9",
   "metadata": {},
   "outputs": [],
   "source": [
    "for g in dev.buffer(-2).boundary.geoms:\n",
    "    plt.plot(*g.xy,color='k')\n",
    "for g in all_lines.geoms:\n",
    "    plt.plot(*g.xy,color='r')\n",
    "for g in criss_cross_lines.geoms:\n",
    "    plt.plot(*g.xy,color='b')"
   ]
  },
  {
   "cell_type": "code",
   "execution_count": 16,
   "id": "6326b3be",
   "metadata": {},
   "outputs": [],
   "source": [
    "electrode_xy=[]\n",
    "extra_lines=[]\n",
    "\n",
    "for ang in np.arange(0,2*np.pi,2/3*np.pi):\n",
    "    cx,cy=np.cos(ang)*35,np.sin(ang)*35\n",
    "    for ang_on_ring  in [ang-np.pi/12,ang,ang+np.pi/12]:\n",
    "        x,y=np.cos(ang_on_ring)*rad+cx,np.sin(ang_on_ring)*rad+cy\n",
    "        x1,y1=np.cos(ang_on_ring)*(rad-5)+cx,np.sin(ang_on_ring)*(rad-5)+cy\n",
    "        x2,y2=np.cos(ang_on_ring)*(rad+5)+cx,np.sin(ang_on_ring)*(rad+5)+cy\n",
    "        electrode_xy.append([x,y])\n",
    "        extra_lines.append((sh.LineString( [ sh.Point(x1,y1),sh.Point(x2,y2)] )))\n",
    "new_all_lines = all_lines\n",
    "\n",
    "electrode_footprints=[]\n",
    "corrected_lines = []\n",
    "for pos in electrode_xy:\n",
    "    plt.plot(pos[0],pos[1],'o',color='k')\n",
    "    electrode=sh.Point(pos).buffer(1.5)\n",
    "    electrode_footprints.append(electrode)\n",
    "    cut_points=electrode.boundary.intersection(all_lines)\n",
    "    new_all_lines.difference(electrode)\n",
    "    new_electrode_line = [sh.LineString([p,electrode.centroid]) for p in cut_points.geoms]\n",
    "    corrected_lines.append(sh.unary_union(new_electrode_line))\n",
    "#     for g in sh.unary_union(new_electrode_line).geoms:\n",
    "#         plt.plot(*g.xy,color='b')"
   ]
  },
  {
   "cell_type": "code",
   "execution_count": 17,
   "id": "b004fb46",
   "metadata": {},
   "outputs": [],
   "source": [
    "corrected_all_lines=new_all_lines.difference(sh.unary_union(electrode_footprints)).union(sh.unary_union(corrected_lines))"
   ]
  },
  {
   "cell_type": "code",
   "execution_count": 18,
   "id": "67521fb7",
   "metadata": {},
   "outputs": [],
   "source": [
    "for g in corrected_all_lines.geoms:\n",
    "    plt.plot(*g.xy)\n",
    "for g in sh.unary_union(extra_lines).geoms:\n",
    "    plt.plot(*g.xy)"
   ]
  },
  {
   "cell_type": "code",
   "execution_count": 19,
   "id": "42c2dc5c",
   "metadata": {},
   "outputs": [],
   "source": [
    "electrode_extra_lines = sh.unary_union(extra_lines)\n",
    "\n",
    "pad_lines = []\n",
    "for i in range(4):\n",
    "    ang=(90-20+i*10)*np.pi/180\n",
    "    x1,y1 = np.cos(ang)*190,np.sin(ang)*190\n",
    "    x2,y2 = np.cos(ang)*210,np.sin(ang)*210\n",
    "    pad_lines.append(sh.LineString([sh.Point(x1,y1),sh.Point(x2,y2)]))\n",
    "for i in range(5):\n",
    "    ang=(270-20+i*10)*np.pi/180\n",
    "    x1,y1 = np.cos(ang)*190,np.sin(ang)*190\n",
    "    x2,y2 = np.cos(ang)*210,np.sin(ang)*210\n",
    "    pad_lines.append(sh.LineString([sh.Point(x1,y1),sh.Point(x2,y2)]))\n"
   ]
  },
  {
   "cell_type": "code",
   "execution_count": 20,
   "id": "ea383e99",
   "metadata": {},
   "outputs": [],
   "source": [
    "for g in sh.unary_union(pad_lines).geoms:\n",
    "    plt.plot(*g.xy)"
   ]
  },
  {
   "cell_type": "code",
   "execution_count": 21,
   "id": "e41893e8",
   "metadata": {},
   "outputs": [],
   "source": [
    "total_lines=corrected_all_lines.union(sh.unary_union(pad_lines)).union(electrode_extra_lines).union(criss_cross_lines)"
   ]
  },
  {
   "cell_type": "code",
   "execution_count": 231,
   "id": "e67bc0cd",
   "metadata": {},
   "outputs": [],
   "source": [
    "for g in sh.unary_union(total_lines).geoms:\n",
    "    plt.plot(*g.xy)"
   ]
  },
  {
   "cell_type": "code",
   "execution_count": 132,
   "id": "76bf0ed2",
   "metadata": {},
   "outputs": [
    {
     "name": "stdout",
     "output_type": "stream",
     "text": [
      "[2559, 2571, 2583, 2595, 2607, 2619, 2631, 2643, 2655]\n"
     ]
    }
   ],
   "source": [
    "line_end_coords=[]\n",
    "all_physical_lines=[]\n",
    "for l in total_lines.geoms:\n",
    "    bdy_coords=[list(el.coords)[0] for el in l.boundary.geoms]\n",
    "    if len(bdy_coords)>0:\n",
    "        line_end_coords.append(bdy_coords) #end point coords of lines\n",
    "        all_physical_lines.append(l) #collect all lines into one list\n",
    "#there are faulty lines in the merge, which fold back onto themselves (first point = last point), which technically does not have a boundary and is a closed polygon\n",
    "#eliminate those\n",
    "end_pts=np.concatenate(line_end_coords)\n",
    "end_to_end_connections= np.asarray([(2*i,2*i+1) for i in range(len(end_pts)//2)]) #every consecutive 2 points are connected together by the LineString\n",
    "\n",
    "\n",
    "from scipy.spatial import cKDTree\n",
    "tree_elec=cKDTree(electrode_xy)\n",
    "tree_pts=cKDTree(end_pts)          \n",
    "elec_idx=[el[0] for el in tree_elec.query_ball_tree(tree_pts,r=1e-3)]\n",
    "pad_idx = np.where( np.abs(np.sum(end_pts**2,axis=1)-210*210) < 1e-3)[0]\n",
    "\n",
    "\n",
    "nodes_to_merge=tree_pts.query_ball_tree(tree_pts,r=1e-3)\n",
    "for nodes in nodes_to_merge:\n",
    "    if len(nodes)>0:\n",
    "        for replaced in nodes[1:]: #replace all other neighbor nodes by the first node index, so intersections dont count as multiple\n",
    "            end_to_end_connections[end_to_end_connections==replaced]=nodes[0]\n",
    "            pad_idx[pad_idx==replaced]=nodes[0]\n",
    "\n"
   ]
  },
  {
   "cell_type": "code",
   "execution_count": null,
   "id": "4c507b00",
   "metadata": {},
   "outputs": [],
   "source": []
  },
  {
   "cell_type": "code",
   "execution_count": 135,
   "id": "183f81dc",
   "metadata": {},
   "outputs": [],
   "source": [
    "\n",
    "import networkx as nx\n",
    "Graph = nx.from_edgelist(end_to_end_connections)\n",
    "#Graph.add_edges_from(edge_by_lines)\n",
    "source=np.max(Graph.nodes)+1\n",
    "sink=np.max(Graph.nodes)+2\n",
    "\n",
    "for el in elec_idx:\n",
    "    Graph.add_edge(el,source)\n",
    "for el in pad_idx:\n",
    "    Graph.add_edge(el,sink)\n",
    "    "
   ]
  },
  {
   "cell_type": "code",
   "execution_count": 232,
   "id": "5b6644a2",
   "metadata": {},
   "outputs": [
    {
     "data": {
      "text/plain": [
       "[2559,\n",
       " 1473,\n",
       " 831,\n",
       " 829,\n",
       " 827,\n",
       " 443,\n",
       " 441,\n",
       " 337,\n",
       " 373,\n",
       " 371,\n",
       " 369,\n",
       " 367,\n",
       " 365,\n",
       " 363,\n",
       " 361,\n",
       " 359,\n",
       " 315,\n",
       " 313,\n",
       " 411,\n",
       " 1433,\n",
       " 1325,\n",
       " 2251,\n",
       " 2143,\n",
       " 1163,\n",
       " 1099,\n",
       " 1035,\n",
       " 971,\n",
       " 2857]"
      ]
     },
     "execution_count": 232,
     "metadata": {},
     "output_type": "execute_result"
    }
   ],
   "source": [
    "paths=list(nx.node_disjoint_paths(Graph,source,sink))\n",
    "paths=[el[1:-1] for el in paths] #skip sink and source nodes\n",
    "paths[0]"
   ]
  },
  {
   "cell_type": "code",
   "execution_count": 194,
   "id": "46bfecfa",
   "metadata": {},
   "outputs": [],
   "source": [
    "routes=[]\n",
    "for p in paths:  \n",
    "    line=[]\n",
    "    color=np.random.rand(3)\n",
    "    for i in range(len(p)-1):\n",
    "        line_idx=np.where(np.sum(end_to_end_connections==p[i],axis=1) + np.sum(end_to_end_connections==p[i+1],axis=1) == 2)[0][0]\n",
    "        x,y=np.asarray(all_physical_lines[line_idx].coords).T\n",
    "        line.append(np.vstack((x,y)).T)\n",
    "    \n",
    "    routes.append(merge_line(line))"
   ]
  },
  {
   "cell_type": "code",
   "execution_count": 234,
   "id": "d468de53",
   "metadata": {},
   "outputs": [
    {
     "data": {
      "text/plain": [
       "<phidl.quickplotter.Viewer at 0x7fe562f4cd30>"
      ]
     },
     "execution_count": 234,
     "metadata": {},
     "output_type": "execute_result"
    }
   ],
   "source": [
    "device=shapely_to_phidl(dev)\n",
    "for pos in electrode_xy:\n",
    "    device<<pg.circle(radius=1,layer=3).movex(pos[0]).movey(pos[1])\n",
    "for r in routes:\n",
    "    elec_route=shapely_to_phidl(sh.line_merge(r).buffer(.1))\n",
    "    elec_route_sm=shapely_to_phidl(smooth_route(r).buffer(.1))\n",
    "    #device<<elec_route.remap_layers({0:3})\n",
    "    device<<elec_route_sm.remap_layers({0:5})\n",
    "qp(device)"
   ]
  },
  {
   "cell_type": "code",
   "execution_count": 241,
   "id": "00169b22",
   "metadata": {},
   "outputs": [
    {
     "data": {
      "text/plain": [
       "array([[  36.46611731, -206.80962813],\n",
       "       [  36.16374917, -205.09349217],\n",
       "       [  35.89824817, -203.57851411],\n",
       "       ...,\n",
       "       [  85.28275897,  -11.83672668],\n",
       "       [  84.40500479,  -12.43579716],\n",
       "       [  83.29629131,  -12.94095226]])"
      ]
     },
     "execution_count": 241,
     "metadata": {},
     "output_type": "execute_result"
    }
   ],
   "source": [
    "smr=[]\n",
    "for r in routes:\n",
    "    smr.append(smooth_route(r))\n",
    "np.diff(np.asarray(smr[0].coords),axis=1)"
   ]
  }
 ],
 "metadata": {
  "kernelspec": {
   "display_name": "Python 3 (ipykernel)",
   "language": "python",
   "name": "python3"
  },
  "language_info": {
   "codemirror_mode": {
    "name": "ipython",
    "version": 3
   },
   "file_extension": ".py",
   "mimetype": "text/x-python",
   "name": "python",
   "nbconvert_exporter": "python",
   "pygments_lexer": "ipython3",
   "version": "3.11.3"
  }
 },
 "nbformat": 4,
 "nbformat_minor": 5
}
