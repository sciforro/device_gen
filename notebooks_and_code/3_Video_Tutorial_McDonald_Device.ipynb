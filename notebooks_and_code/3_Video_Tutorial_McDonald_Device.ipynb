{
 "cells": [
  {
   "cell_type": "code",
   "execution_count": null,
   "id": "7b737808-6200-4954-bff0-363e52a8392c",
   "metadata": {},
   "outputs": [],
   "source": []
  },
  {
   "cell_type": "code",
   "execution_count": 1,
   "id": "c29e5b0d-b97b-460c-9aa3-718dcb42afcb",
   "metadata": {},
   "outputs": [],
   "source": [
    "import phidl.geometry as pg\n",
    "import matplotlib.pyplot as plt\n",
    "%matplotlib qt\n",
    "from phidl.quickplotter import quickplot2 as qp\n",
    "import shapely as sh\n",
    "import numpy as np\n",
    "from scipy.spatial import cKDTree\n",
    "import sys\n",
    "sys.path.append('./')\n",
    "import utilities as util\n",
    "import phidl.path as pth\n"
   ]
  },
  {
   "cell_type": "code",
   "execution_count": 2,
   "id": "a327fb69-0279-4cfc-9306-82770b6d2599",
   "metadata": {},
   "outputs": [],
   "source": [
    "elec_diam=30\n",
    "ring_width = 20\n",
    "n_arms = 8\n",
    "arm_length = 3000\n",
    "ring_spacing = 300\n"
   ]
  },
  {
   "cell_type": "code",
   "execution_count": 3,
   "id": "129fc7a9-f5a7-4747-ab07-a56b3f71995b",
   "metadata": {},
   "outputs": [],
   "source": [
    "center = sh.Point(0,0).buffer(elec_diam/2+10)\n",
    "def ring(radius,width,res=100):\n",
    "    t=np.linspace(0,2*np.pi,res)\n",
    "    x=np.cos(t)*radius\n",
    "    y=np.sin(t)*radius\n",
    "    return sh.LineString( np.asarray([x,y]).T).buffer(width/2)\n",
    "def arm(w_in,w_out,mid_l,arm_l):\n",
    "    in_ring = sh.Polygon([[-w_in/2,0],[w_in/2,0],[w_out/2,mid_l],[-w_out/2,mid_l]])\n",
    "    out_ring = sh.Polygon([[w_out/2,mid_l],[w_out/2,arm_l],[-w_out/2,arm_l],[-w_out/2,mid_l]])\n",
    "    \n",
    "    return in_ring.union(out_ring)\n",
    "polygons=[]\n",
    "polygons+=[center]\n",
    "for n_ring in range(4):\n",
    "    polygons.append(ring(radius=(n_ring+1)*ring_spacing,width=ring_width))\n",
    "for idx in range(n_arms):\n",
    "    polygons.append(sh.affinity.rotate(arm(30,100,4*ring_spacing,arm_l=arm_length),origin=(0,0), angle=360//n_arms*idx))\n",
    "polygons.append(ring(radius=arm_length,width=50))"
   ]
  },
  {
   "cell_type": "code",
   "execution_count": 4,
   "id": "fefd047a-bdb8-44f2-9c90-f9af7f495f9e",
   "metadata": {},
   "outputs": [],
   "source": [
    "sh_dev=sh.unary_union(polygons).buffer(5).buffer(-5)"
   ]
  },
  {
   "cell_type": "code",
   "execution_count": 5,
   "id": "37e5f5ca-c3f5-4f4c-8c89-28eb3eaed94e",
   "metadata": {},
   "outputs": [],
   "source": [
    "#place electrodes\n"
   ]
  },
  {
   "cell_type": "code",
   "execution_count": 6,
   "id": "193ae2cb-d553-47f4-8024-c943889bfd2b",
   "metadata": {},
   "outputs": [],
   "source": [
    "n_elecs = [1,8,12,16,24]\n",
    "angles = [0,22.5,0,11.25,7.5] #degrees\n",
    "\n",
    "\n",
    "all_elecs_xy=[]\n",
    "\n",
    "for i in [0,1,2,4]:\n",
    "    for n in range(n_elecs[i]):\n",
    "        angle_around_ring = (angles[i]+360//n_elecs[i]*n)*np.pi/180\n",
    "        radius = i*ring_spacing\n",
    "        x,y= radius*np.cos(angle_around_ring),radius*np.sin(angle_around_ring)\n",
    "        electrode = pg.circle(radius=elec_diam/2,layer=2).movex(x).movey(y)\n",
    "        electrode = pg.circle(radius=elec_diam/2+5,layer=1).movex(x).movey(y)\n",
    "        sh_dev=sh_dev.union(sh.Point(x,y).buffer(elec_diam/2+5))\n",
    "        all_elecs_xy.append([x,y])\n",
    "i = 3\n",
    "for n in range(n_elecs[i]//2):\n",
    "    for pm in [-1,1]:\n",
    "        angle_around_ring = (pm*angles[i]+360//(n_elecs[i]//2)*n)*np.pi/180\n",
    "        radius = i*ring_spacing\n",
    "        x,y= radius*np.cos(angle_around_ring),radius*np.sin(angle_around_ring)\n",
    "        electrode = pg.circle(radius=elec_diam/2,layer=2).movex(x).movey(y)\n",
    "        electrode = pg.circle(radius=elec_diam/2+5,layer=0).movex(x).movey(y)\n",
    "        sh_dev=sh_dev.union(sh.Point(x,y).buffer(elec_diam/2+5))\n",
    "        all_elecs_xy.append([x,y])"
   ]
  },
  {
   "cell_type": "code",
   "execution_count": 7,
   "id": "c47484fd-f0da-4f82-8610-8be2ecd7eed6",
   "metadata": {},
   "outputs": [],
   "source": [
    "ph_dev = util.shapely_to_phidl(sh_dev)\n",
    "qp(ph_dev)"
   ]
  },
  {
   "cell_type": "code",
   "execution_count": 8,
   "id": "41c6ad54-603d-49ee-aab3-d8a33a301ebc",
   "metadata": {
    "scrolled": true
   },
   "outputs": [],
   "source": [
    "router = util.RoutingLayout(sh_dev,border_tolerance=5)\n"
   ]
  },
  {
   "cell_type": "code",
   "execution_count": 9,
   "id": "9c441bea-57e2-48ff-9af5-c78204635d8c",
   "metadata": {},
   "outputs": [],
   "source": [
    "router.lay_down_lines(n_lines=7,gap_um=5,adaptive=False)"
   ]
  },
  {
   "cell_type": "code",
   "execution_count": null,
   "id": "0bfda9ba-db3f-436e-a995-77d628871e89",
   "metadata": {
    "scrolled": true
   },
   "outputs": [],
   "source": []
  },
  {
   "cell_type": "code",
   "execution_count": null,
   "id": "6ab927c9-f23c-40cd-af0b-87367ebfc908",
   "metadata": {},
   "outputs": [],
   "source": []
  },
  {
   "cell_type": "code",
   "execution_count": null,
   "id": "5400214c-eb76-4189-88df-f178ac0d1b51",
   "metadata": {},
   "outputs": [],
   "source": []
  },
  {
   "cell_type": "code",
   "execution_count": 10,
   "id": "bac40531-8f17-4417-bf4f-2ad7d4d8172e",
   "metadata": {},
   "outputs": [],
   "source": [
    "list_of_bds, list_of_branches = [],[]\n",
    "for x,y in all_elecs_xy:\n",
    "    boundary=sh.Point(x,y).buffer(5).exterior\n",
    "    norm=x*x+y*y+1e-3 #in case centered on 0,0\n",
    "    nx,ny=x/np.sqrt(norm),y/np.sqrt(norm) #normalized direction\n",
    "    branch_points=sh.MultiPoint([[x+15*nx,y+15*ny],[x-15*nx,y-15*ny],[x+15*ny,y-15*nx],[x-15*ny,y+15*nx]])\n",
    "    list_of_bds.append(boundary)\n",
    "    list_of_branches.append(branch_points)\n",
    "router.add_electrodes(list_of_bds,list_of_branches)"
   ]
  },
  {
   "cell_type": "code",
   "execution_count": null,
   "id": "6a52530c-7274-4249-8d53-c8477d39a0f7",
   "metadata": {},
   "outputs": [],
   "source": []
  },
  {
   "cell_type": "code",
   "execution_count": 11,
   "id": "fe4a51cd-69ed-45be-bc29-c4331b41f8d8",
   "metadata": {},
   "outputs": [],
   "source": [
    "angle=np.linspace(0,2*np.pi,len(all_elecs_xy)+1)[:-1]\n",
    "rad=3020\n",
    "list_of_bds, list_of_branches = [],[]\n",
    "for a in angle:\n",
    "    x,y=rad*np.sin(a),rad*np.cos(a)\n",
    "    list_of_bds.append(sh.Point(x,y).buffer(1).exterior)\n",
    "    list_of_branches.append(sh.MultiPoint([[(rad-45)*np.sin(a),(rad-45)*np.cos(a)]]))\n",
    "router.add_electrodes(list_of_bds,list_of_branches,type='pad')"
   ]
  },
  {
   "cell_type": "code",
   "execution_count": 12,
   "id": "9ec5bbf9-c600-4f82-9e0e-86b767bd582e",
   "metadata": {},
   "outputs": [],
   "source": [
    "router.route(resample_for_smooth=10)"
   ]
  },
  {
   "cell_type": "code",
   "execution_count": 13,
   "id": "532738fa-bb38-4da1-9f67-3f6b8c950719",
   "metadata": {},
   "outputs": [],
   "source": [
    "router.all_elec_pad_routes_smooth"
   ]
  },
  {
   "cell_type": "code",
   "execution_count": 14,
   "id": "717692a3-bbf0-4a74-8513-3b2d4ef0d482",
   "metadata": {
    "scrolled": true
   },
   "outputs": [],
   "source": [
    "elec_routes=util.multilinestrings_to_phidl(sh.unary_union(router.all_elec_pad_routes_smooth),width=1)"
   ]
  },
  {
   "cell_type": "code",
   "execution_count": 15,
   "id": "eec81daf-8fe7-4c41-aedb-b255dbdaea90",
   "metadata": {},
   "outputs": [],
   "source": [
    "full_device=pg.Device()\n",
    "full_device<<ph_dev\n",
    "\n",
    "elecs=pg.Device()\n",
    "for x,y in all_elecs_xy:\n",
    "    elecs<<pg.circle(radius=12,layer=1).movex(x).movey(y)\n",
    "full_device<<elec_routes.remap_layers({3:1})\n",
    "full_device<<elecs\n",
    "full_device<<pg.boolean(ph_dev,elecs,operation='A-B',layer=2)"
   ]
  },
  {
   "cell_type": "code",
   "execution_count": 16,
   "id": "f0af3f26-4c9d-4389-9f7f-dbc0cfde47f8",
   "metadata": {},
   "outputs": [],
   "source": [
    "qp(full_device)"
   ]
  },
  {
   "cell_type": "code",
   "execution_count": 17,
   "id": "bd3d643c-c2e4-4364-bf9e-f1e2682ed22d",
   "metadata": {},
   "outputs": [],
   "source": [
    "full_device.write_gds('Tutorial_dev.gds')"
   ]
  },
  {
   "cell_type": "code",
   "execution_count": 18,
   "id": "46b56a79-9854-48a4-acc6-1ca3887ae3dc",
   "metadata": {},
   "outputs": [],
   "source": [
    "tmp=pg.Device()\n",
    "tmp<<ph_dev\n",
    "tmp<<routez\n",
    "qp(tmp)"
   ]
  },
  {
   "cell_type": "code",
   "execution_count": 19,
   "id": "eca830e9-88d5-4133-b22d-daec52f2c3c4",
   "metadata": {},
   "outputs": [],
   "source": [
    "# def smoothen_line(sh_line,factor):\n",
    "#     from scipy.interpolate import splprep,splev\n",
    "#     xy=np.asarray(sh_line.xy).T\n",
    "plt.plot(*line.buffer(rad+1e-3).buffer(-rad).interiors[0].xy)\n",
    "plt.plot(*newline.xy)"
   ]
  },
  {
   "cell_type": "code",
   "execution_count": null,
   "id": "4cee8c1a-6e5d-41b5-bc76-42446bbe27ec",
   "metadata": {},
   "outputs": [],
   "source": []
  },
  {
   "cell_type": "code",
   "execution_count": null,
   "id": "12cca1e3-e0ce-47a9-a0dd-8abc88978dd4",
   "metadata": {},
   "outputs": [],
   "source": [
    "# def buffer_varying(xy,distances,tolerance=.1):\n",
    "#     '''If creating a loop via xy + normal*distance creates hairpins, the buffering operations may be unstable\n",
    "#     These hairpins can be detected via checking if the linestring is simple (no self intersection). If it is not\n",
    "#     we revert to this slower way of building the outline, buffering each point with a specific radius and taking their union\n",
    "#     The underlying curve (x,y) should be sample more densely than the smallest radius (i.e, the line-line gap)\n",
    "#     In order to speed up the algorithm, tolerance treats radii within this tolerance as identical, so that buffer can run as\n",
    "#     a single radius on contiguous poinst (linestrings) of radii that are similar, reducing the number of buffering operations'''\n",
    "    \n",
    "#     contig=distances//0.1\n",
    "#     out = np.split(contig, np.where(contig[1:] != contig[:-1])[0] + 1)\n",
    "#     slicer=np.cumsum([0]+[len(el) for el in out])\n",
    "#     bleb_lines=sh.unary_union([sh.LineString(xy[slicer[i]:slicer[i+1]]).buffer(np.mean(distances[slicer[i]:slicer[i+1]])) for i in range(len(slicer)-1) if (slicer[i+1]-slicer[i])>1])\n",
    "#     bleb_points=sh.unary_union([sh.Point(xy[slicer[i]:slicer[i+1]]).buffer(np.mean(distances[slicer[i]:slicer[i+1]])) for i in range(len(slicer)-1) if (slicer[i+1]-slicer[i])==1])\n",
    "#     print(slicer)\n",
    "#     return bleb_lines.union(bleb_points)"
   ]
  },
  {
   "cell_type": "code",
   "execution_count": null,
   "id": "6c6b2455-99ce-4d99-a9c3-4ae9df7d9ab5",
   "metadata": {},
   "outputs": [],
   "source": []
  },
  {
   "cell_type": "code",
   "execution_count": 20,
   "id": "ee60b6c6-7ca8-4346-908e-672021587eb0",
   "metadata": {},
   "outputs": [],
   "source": [
    "sh_line = pol.interiors[0]\n",
    "from scipy.interpolate import splprep,splev\n",
    "xy=np.asarray(sh_line.xy).T\n",
    "s=np.cumsum(np.hstack(np.sum(np.gradient(xy,axis=0)**2,axis=1)))\n",
    "s=s/np.max(s)\n",
    "smooth=100\n",
    "new_s = np.linspace(0,1,10000)\n",
    "tck,u =splprep(np.vstack((s,xy[:,0])), s=smooth)\n",
    "_,smooth_x = splev(new_s,tck)\n",
    "tck,u =splprep(np.vstack((s,xy[:,1])), s=smooth)\n",
    "_,smooth_y = splev(new_s,tck)\n",
    "\n",
    "plt.plot(xy[:,0],xy[:,1])\n",
    "plt.plot(smooth_x,smooth_y)"
   ]
  },
  {
   "cell_type": "code",
   "execution_count": null,
   "id": "597bdcc0-d9c2-4b6d-b2f8-55a0b8e2682f",
   "metadata": {},
   "outputs": [],
   "source": [
    "# import pygmsh\n",
    "# import gmsh\n",
    "# def remap(linestring,res=3):\n",
    "#     length=linestring.length\n",
    "#     linestring=sh.LineString(linestring.interpolate(np.linspace(0,1,int(length//res)),normalized=True))\n",
    "#     return linestring\n",
    "# shapely_dev=router.shaved_device\n",
    "# with pygmsh.occ.Geometry() as geom:\n",
    "#     perimeter=geom.add_polygon( np.asarray(remap(shapely_dev.exterior,3).coords)[:-1,:])\n",
    "#     #holes= [geom.add_polygon(reshape(d,45)) for d in neg_holes.get_polygons()]\n",
    "#     holes = [geom.add_polygon(np.asarray(remap(interior,3).coords)[:-1,:])\n",
    "#              for interior in shapely_dev.interiors]\n",
    "#     geom.boolean_difference(perimeter, holes)\n",
    "#    # gmsh.option.setNumber('Mesh.Algorithm',1)\n",
    "#     #gmsh.option.setNumber(\"LcMin\", 5)\n",
    "\n",
    "# #     gmsh.option.setNumber('Mesh.Smoothing',1)\n",
    "# #     gmsh.option.setNumber('Mesh.SubdivisionAlgorithm', 1)\n",
    "# #     gmsh.option.setNumber('Mesh.RecombineAll', 1)\n",
    "#     mesh =geom.generate_mesh()"
   ]
  },
  {
   "cell_type": "code",
   "execution_count": null,
   "id": "063f7ca8-fae4-4880-ba61-9e5d41784a0d",
   "metadata": {},
   "outputs": [],
   "source": []
  },
  {
   "cell_type": "code",
   "execution_count": null,
   "id": "76ef199b-acce-4aa6-a58e-679143f8d186",
   "metadata": {},
   "outputs": [],
   "source": []
  }
 ],
 "metadata": {
  "kernelspec": {
   "display_name": "Python 3 (ipykernel)",
   "language": "python",
   "name": "python3"
  },
  "language_info": {
   "codemirror_mode": {
    "name": "ipython",
    "version": 3
   },
   "file_extension": ".py",
   "mimetype": "text/x-python",
   "name": "python",
   "nbconvert_exporter": "python",
   "pygments_lexer": "ipython3",
   "version": "3.11.3"
  }
 },
 "nbformat": 4,
 "nbformat_minor": 5
}
