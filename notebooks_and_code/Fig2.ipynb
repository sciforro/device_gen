{
 "cells": [
  {
   "cell_type": "code",
   "execution_count": 1,
   "id": "7f547298-9236-4e8c-a63e-ad7e186b71d6",
   "metadata": {},
   "outputs": [],
   "source": [
    "import phidl.geometry as pg\n",
    "from phidl.quickplotter import quickplot2 as qp2\n",
    "import matplotlib.pyplot as plt\n",
    "from matplotlib.patches import Polygon,Rectangle\n",
    "from phidl.path import Path,CrossSection\n",
    "import numpy as np\n",
    "import shapely\n",
    "import shapely as sh\n",
    "from centerline.geometry import Centerline\n",
    "from scipy.spatial import cKDTree\n",
    "import warnings\n",
    "import networkx as nx\n",
    "import utilities as utils\n",
    "%matplotlib qt\n",
    "palette={'black': '#000000', 'vermillion': '#E69F00',\n",
    "'blue': '#56B4E9', 'green': '#009E73','orange': '#D55E00',\n",
    "'yellow': '#F0E442', 'red': '#CC79A7','darkgrey':'#2F4F4F'}\n",
    "\n",
    "poly_color=palette['blue']"
   ]
  },
  {
   "cell_type": "code",
   "execution_count": 2,
   "id": "0063d70a-2c73-449e-aab4-c3b4009dc101",
   "metadata": {},
   "outputs": [],
   "source": [
    "def smooth_boolean(dev,radius):\n",
    "    return utils.shapely_to_phidl(utils.phidl_to_shapely(dev).buffer(radius).buffer(-radius))\n"
   ]
  },
  {
   "cell_type": "code",
   "execution_count": null,
   "id": "aebae43c",
   "metadata": {},
   "outputs": [],
   "source": []
  },
  {
   "cell_type": "code",
   "execution_count": 3,
   "id": "f8d02fd5-4b9b-4015-9169-216919a28647",
   "metadata": {},
   "outputs": [
    {
     "name": "stderr",
     "output_type": "stream",
     "text": [
      "/home/csaba/anaconda3/lib/python3.12/site-packages/phidl/quickplotter.py:959: UserWarning: [PHIDL] Warning: `quickplot2` will be removed in April 2025, please replace with quickplot() \n",
      "  warnings.warn(\n"
     ]
    },
    {
     "data": {
      "text/plain": [
       "<phidl.quickplotter.Viewer at 0x7ff470d0c440>"
      ]
     },
     "execution_count": 3,
     "metadata": {},
     "output_type": "execute_result"
    }
   ],
   "source": [
    "n_ondulation = [16, 16, 8]\n",
    "rs = [550, 320, 120]\n",
    "r_mod = [0.06, 0.06, 0.06]\n",
    "thicknesses = [25,15,10]\n",
    "\n",
    "dev=pg.Device()\n",
    "polys=[]\n",
    "connection_areas=pg.Device()\n",
    "connection_area_rad=35\n",
    "\n",
    "for idx, (rad, thick) in enumerate(zip(rs, thicknesses)):\n",
    "    r = rad + r_mod[idx] * rad * np.sin(np.linspace(0, n_ondulation[idx] * 2 * np.pi, 512))\n",
    "    initial_rot = 30\n",
    "    t = np.linspace(0, 2 * np.pi, 512) + initial_rot\n",
    "    x, y = r * np.cos(t), r * np.sin(t)\n",
    "    plt.plot(x,y)\n",
    "    pth = Path(np.vstack([x,y]).T)\n",
    "    X=CrossSection()\n",
    "    X.add(width=thick)\n",
    "    buffer_out=utils.phidl_to_shapely((pth.extrude(X))).buffer(distance=20).buffer(-20)\n",
    "    dev<<utils.shapely_to_phidl(buffer_out)\n",
    "    polys.append(np.vstack((x,y)).T)\n",
    "\n",
    "paths=pg.Device()\n",
    "for idx,n in enumerate([16,8]):\n",
    "    for latch in range(n):\n",
    "        x0,y0 = polys[idx][len(polys[idx])//n*latch]\n",
    "        xe,ye = polys[idx+1][(len(polys[idx+1])//n*latch+65)%len(polys[idx+1])]\n",
    "        \n",
    "        connection_areas<<pg.circle(radius=connection_area_rad).movex(xe).movey(ye)\n",
    "        connection_areas<<pg.circle(radius=connection_area_rad).movex(x0).movey(y0)\n",
    "\n",
    "        \n",
    "        r0,re = np.sqrt(x0*x0+y0*y0),np.sqrt(xe*xe+ye*ye)\n",
    "        t0,te = np.arctan2(y0,x0),np.arctan2(ye,xe)\n",
    "        if (te-t0)<0: #looping the other way around\n",
    "            t0-=2*np.pi\n",
    "        t=np.linspace(t0,te,100)\n",
    "        rz=np.linspace(0,1,100)*(re-r0)+r0\n",
    "        x_latch,y_latch = rz*np.cos(t),rz*np.sin(t)\n",
    "        plt.plot(x_latch,y_latch)\n",
    "        X=CrossSection()\n",
    "        X.add(width=10)\n",
    "        paths<<Path(np.vstack((x_latch,y_latch)).T).extrude(X)\n",
    "joined_dev = pg.boolean(dev,paths,operation='A+B')\n",
    "        \n",
    "smooth_connections = pg.boolean(joined_dev,connection_areas,operation='AND') #cut out contact areas\n",
    "smooth_connections=utils.phidl_to_shapely(smooth_connections).buffer(20).buffer(-20)\n",
    "\n",
    "utils.shapely_to_phidl(utils.phidl_to_shapely(joined_dev).union(smooth_connections).buffer(5).buffer(-5))\n",
    "\n",
    "final_dev = smooth_boolean( pg.boolean(smooth_connections,joined_dev,operation='A+B'), radius=5)\n",
    "\n",
    "tail = pg.rectangle( (400,80) ).movex(-200).movey(900)\n",
    "tail = smooth_boolean( pg.boolean( tail, pg.rectangle( (70,400)).movex(-35).movey(530),operation='A+B'),radius=5)\n",
    "\n",
    "device_perimeter=pg.Device()\n",
    "device_perimeter.add_polygon(polys[0])\n",
    "\n",
    "tail = pg.boolean(tail,device_perimeter,operation='A-B')\n",
    "\n",
    "final_dev = smooth_boolean( pg.boolean(final_dev,tail,operation='A+B'), radius=5)\n",
    "qp2(final_dev)\n",
    "\n",
    "pads=pg.Device()\n",
    "pads.add_array(pg.rectangle((10,50)).movex(-195).movey(930),columns=19,rows=1,spacing=(21,0))\n",
    "\n",
    "tmp=pg.Device()\n",
    "tmp<<final_dev\n",
    "tmp<<pads\n",
    "qp2(tmp)"
   ]
  },
  {
   "cell_type": "code",
   "execution_count": 4,
   "id": "ea508a54",
   "metadata": {},
   "outputs": [],
   "source": [
    "shapely_device=utils.phidl_to_shapely(final_dev)"
   ]
  },
  {
   "cell_type": "code",
   "execution_count": 5,
   "id": "de9f3680-5d29-42e0-a745-4da4f6536e1d",
   "metadata": {},
   "outputs": [],
   "source": [
    "router= utils.RoutingLayout(shapely_device,border_tolerance=1,skel_interp_dist=1,override_auto_skel_dist=True)\n"
   ]
  },
  {
   "cell_type": "code",
   "execution_count": 6,
   "id": "938916b5-3bcb-4439-8432-ec586f96c57b",
   "metadata": {},
   "outputs": [],
   "source": [
    "router.lay_down_lines(9,3,add_border=False)\n"
   ]
  },
  {
   "cell_type": "code",
   "execution_count": 7,
   "id": "7349e355-97de-4719-8967-f4f5398b2f1d",
   "metadata": {},
   "outputs": [
    {
     "data": {
      "text/plain": [
       "<phidl.quickplotter.Viewer at 0x7ff470d0c440>"
      ]
     },
     "execution_count": 7,
     "metadata": {},
     "output_type": "execute_result"
    }
   ],
   "source": [
    "qp2(utils.multilinestrings_to_phidl(router.all_route_lines))"
   ]
  },
  {
   "cell_type": "code",
   "execution_count": 8,
   "id": "caed2115-8c4b-4e82-880b-d0c4e70ea8f9",
   "metadata": {},
   "outputs": [],
   "source": [
    "electrode_xy=np.vstack((polys[-1][::512//3,:][:-1,:],polys[-2][(55+512//6*np.arange(6))%512,:])).T\n",
    "elec_boundaries=[]\n",
    "elec_extra_points=[]\n",
    "for x,y in electrode_xy.T:\n",
    "    elec_boundaries.append(shapely.Point(x,y).buffer(5).boundary)\n",
    "    elec_extra_points.append(shapely.MultiPoint([shapely.Point(x,y)]))\n",
    "router.add_electrodes(elec_boundaries,elec_extra_points,clearance=2,type='electrode')\n"
   ]
  },
  {
   "cell_type": "code",
   "execution_count": 9,
   "id": "c8e191bc-4152-43bd-867f-600e3d5e88f6",
   "metadata": {},
   "outputs": [],
   "source": [
    "pad_points=shapely.LineString([shapely.Point([-10,650]),shapely.Point([10,650])]).intersection(router.all_route_lines)\n",
    "pad_boundaries=[]\n",
    "pad_extra_points=[]\n",
    "for p in pad_points.geoms:\n",
    "    x,y=list(p.coords)[0]\n",
    "    pad_boundaries.append( shapely.Point(x,y).buffer(1).boundary)\n",
    "    pad_extra_points.append(shapely.MultiPoint([shapely.Point(x,y)]))\n",
    "router.add_electrodes(pad_boundaries,pad_extra_points,clearance=1,type='pad')"
   ]
  },
  {
   "cell_type": "code",
   "execution_count": 10,
   "id": "99726e89-ab29-4716-8419-544d1b18dda0",
   "metadata": {},
   "outputs": [],
   "source": [
    "router.route()"
   ]
  },
  {
   "cell_type": "code",
   "execution_count": null,
   "id": "71b03bcb-78c6-4b27-a684-a0f815f4b463",
   "metadata": {},
   "outputs": [],
   "source": []
  },
  {
   "cell_type": "code",
   "execution_count": null,
   "id": "53d14319-d64b-4ea9-8550-c6bf19c5697e",
   "metadata": {},
   "outputs": [],
   "source": []
  },
  {
   "cell_type": "code",
   "execution_count": 11,
   "id": "435f4b6b",
   "metadata": {},
   "outputs": [],
   "source": [
    "for idx,line in enumerate(router.all_route_lines.geoms):\n",
    "    x,y=np.asarray(line.coords).T\n",
    "    if np.min( (x+196.9)**2+(y+117.2)**2) < 1e-1: #select specific line\n",
    "        line_idx=idx\n",
    "\n",
    "latch=router.all_route_lines.geoms[line_idx].buffer(30).intersection(shapely_device).difference(utils.phidl_to_shapely(dev))\n",
    "latch=latch.geoms[3]\n",
    "midline=router.all_route_lines.geoms[line_idx].segmentize(1)\n",
    "x,y=np.asarray(midline.coords).T\n",
    "norm=np.asarray([np.gradient(y),-np.gradient(x)])\n",
    "norm=norm/(np.sqrt(np.sum(norm**2,axis=0)))\n",
    "s=np.cumsum(np.sqrt(np.gradient(x)**2+np.gradient(y)**2))\n",
    "s=s/np.max(s)\n",
    "scaler=np.tanh((s-0.1)*15)+np.tanh((-s+0.9)*15)\n",
    "scaler-=np.min(scaler)\n",
    "scaler/=np.max(scaler)\n",
    "mag=3*scaler\n",
    "fig,ax=plt.subplots(1,1,figsize=(5,5))\n",
    "ax.set_aspect('equal')\n",
    "newx,newy=x+mag*np.sin(15*np.pi*2*s)*norm[0],y+mag*np.sin(15*np.pi*2*s)*norm[1]\n",
    "ax.plot(newx,newy)\n",
    "np.sum( norm**2, axis = 0 )\n",
    "\n",
    "wiggled_line=shapely.LineString(np.array([newx,newy]).T)\n",
    "\n",
    "line_idx_wig=line_idx"
   ]
  },
  {
   "cell_type": "code",
   "execution_count": 12,
   "id": "d6ec3b2a-6007-4e56-803d-11d0a4031b5a",
   "metadata": {},
   "outputs": [],
   "source": [
    "from matplotlib.gridspec import GridSpec\n",
    "fig = plt.figure(layout=\"constrained\")\n",
    "\n",
    "gs = GridSpec(4, 3, figure=fig)\n",
    "ax1 = fig.add_subplot(gs[:-1, :2])\n",
    "ax1.set_axis_off()\n",
    "\n",
    "ax2=fig.add_subplot(gs[:-1,-1])\n",
    "ax3=fig.add_subplot(gs[-1,:])\n",
    "for a in [ax1,ax2,ax3]:\n",
    "#     a.set_aspect('equal')\n",
    "     a.set_axis_off()\n",
    "import matplotlib.patches as mp\n",
    "ax1.set_xlim(-600,600)\n",
    "ax1.set_ylim(-600,960)\n",
    "ax2.set_xlim(-340,-260)\n",
    "ax2.set_ylim(-170,10)\n",
    "ax3.set_xlim(-340,-340+340)\n",
    "ax3.set_ylim(-136,-50)\n",
    "ax2_box_shapely = shapely.Polygon(np.asarray([[(i,j) for i in ax2.get_xlim()] for j in ax2.get_ylim()]).reshape(4,2)[[0,1,3,2],:])\n",
    "ax3_box_shapely = shapely.Polygon(np.asarray([[(i,j) for i in ax3.get_xlim()] for j in ax3.get_ylim()]).reshape(4,2)[[0,1,3,2],:])\n",
    "\n",
    "for p in final_dev.get_polygons():\n",
    "    ax1.add_patch(mp.Polygon(p,fc=poly_color))\n",
    "#     ax2.add_patch(mp.Polygon(p,fc=poly_color))\n",
    "#     ax3.add_patch(mp.Polygon(p,fc=poly_color))\n",
    "ax2_dev=shapely_device.intersection(ax2_box_shapely)\n",
    "ax3_dev=shapely_device.intersection(ax3_box_shapely)\n",
    "ax2.add_patch(mp.Polygon( np.asarray(ax2_dev.exterior.coords),fc=poly_color))\n",
    "ax3.add_patch(mp.Polygon( np.asarray(ax3_dev.exterior.coords),fc=poly_color))\n",
    "\n",
    "for k,v in router.G.edges:\n",
    "    try:\n",
    "        line_idx=np.where(np.sum(router.end_to_end_connections==k,axis=1) + np.sum(router.end_to_end_connections==v,axis=1) == 2)[0][0]\n",
    "        simplified_line = router.all_lines.geoms[line_idx].simplify(.1) #save memory for .svg\n",
    "        \n",
    "        xs,ys=np.asarray(simplified_line.simplify(1).coords).T\n",
    "        x,y=np.asarray(simplified_line.coords).T\n",
    "        if line_idx!=line_idx_wig:\n",
    "            ax1.plot(xs,ys,color='k',linewidth=.3)\n",
    "        if simplified_line.intersects(ax2_box_shapely):\n",
    "            ax2.plot(x,y,color='k',linewidth=1)\n",
    "        if simplified_line.intersects(ax3_box_shapely):\n",
    "            if line_idx==line_idx_wig:\n",
    "                ax1.plot(newx,newy,color='r',linewidth=.5)\n",
    "                ax3.plot(newx,newy,color='r',linewidth=1)\n",
    "            else:\n",
    "                ax3.plot(x,y,color='k',linewidth=1)\n",
    "    except:\n",
    "        continue\n",
    "\n",
    "elec_xy=[-319.3,-98.5]\n",
    "t=np.linspace(0,2*np.pi,100)\n",
    "\n",
    "cx,cy = np.cos(t)*5+elec_xy[0],np.sin(t)*5+elec_xy[1]\n",
    "cx2,cy2 = np.cos(t)*7+elec_xy[0],np.sin(t)*7+elec_xy[1]\n",
    "\n",
    "ax2.plot(cx,cy,color='goldenrod')\n",
    "ax2.plot(cx2,cy2,color='r',linestyle='--')\n",
    "\n",
    "plt.savefig('Fig2a.svg')\n",
    "\n"
   ]
  },
  {
   "cell_type": "code",
   "execution_count": null,
   "id": "d426f9b0",
   "metadata": {},
   "outputs": [],
   "source": []
  },
  {
   "cell_type": "code",
   "execution_count": 13,
   "id": "038cfc7a-e064-4e71-8846-308ad7470185",
   "metadata": {},
   "outputs": [],
   "source": [
    "router= utils.RoutingLayout(shapely_device,border_tolerance=1,skel_interp_dist=1,override_auto_skel_dist=True)\n",
    "router.lay_down_lines(19,1.5,add_border=False)\n",
    "\n",
    "\n",
    "electrode_xy=np.vstack((polys[-1][::512//6,:][:-1,:],polys[-2][(55+512//13*np.arange(13))%512,:])).T\n",
    "pad_points=shapely.LineString([shapely.Point([-20,650]),shapely.Point([20,650])]).intersection(router.all_route_lines)\n",
    "\n",
    "elec_boundaries=[]\n",
    "elec_extra_points=[]\n",
    "for x,y in electrode_xy.T:\n",
    "    elec_boundaries.append(shapely.Point(x,y).buffer(5).boundary)\n",
    "    elec_extra_points.append(shapely.MultiPoint([shapely.Point(x,y)]))\n",
    "router.add_electrodes(elec_boundaries,elec_extra_points,clearance=2,type='electrode')\n",
    "\n",
    "pad_points=shapely.LineString([shapely.Point([-20,650]),shapely.Point([20,650])]).intersection(router.all_route_lines)\n",
    "pad_boundaries=[]\n",
    "pad_extra_points=[]\n",
    "for p in pad_points.geoms:\n",
    "    x,y=list(p.coords)[0]\n",
    "    pad_boundaries.append( shapely.Point(x,y).buffer(1).boundary)\n",
    "    pad_extra_points.append(shapely.MultiPoint([shapely.Point(x,y)]))\n",
    "router.add_electrodes(pad_boundaries,pad_extra_points,clearance=1,type='pad')"
   ]
  },
  {
   "cell_type": "code",
   "execution_count": 14,
   "id": "dc3fb50a-2139-464f-b1db-c5667c264956",
   "metadata": {},
   "outputs": [
    {
     "name": "stdout",
     "output_type": "stream",
     "text": [
      "Routing successful\n"
     ]
    }
   ],
   "source": [
    "router.route()"
   ]
  },
  {
   "cell_type": "code",
   "execution_count": 15,
   "id": "93e79c0a-708e-4be8-a6ec-0baea37daee4",
   "metadata": {},
   "outputs": [],
   "source": [
    "fig = plt.figure(layout=\"constrained\")\n",
    "\n",
    "from matplotlib.gridspec import GridSpec\n",
    "fig = plt.figure(layout=\"constrained\")\n",
    "\n",
    "gs = GridSpec(3, 3, figure=fig)\n",
    "ax1 = fig.add_subplot(gs[:, :2])\n",
    "ax2=fig.add_subplot(gs[:,-1])\n",
    "\n",
    "ax1.set_axis_off()\n",
    "ax2.set_axis_off()\n",
    "\n",
    "ax1.set_xlim(-600,600)\n",
    "ax1.set_ylim(-600,960)\n",
    "\n",
    "_x0,_x1,_y0,_y1 = -340,-260,-170,10\n",
    "ax2.set_xlim(-340,-260)\n",
    "ax2.set_ylim(-170,10)\n",
    "\n",
    "for p in final_dev.get_polygons():\n",
    "    ax1.add_patch(mp.Polygon(p,fc=poly_color))\n",
    "    ax2.add_patch(mp.Polygon(p,fc=poly_color))\n",
    "\n",
    "#add effective grid of possible routing:\n",
    "\n",
    "\n",
    "ax2_fov = sh.Polygon([[_x0,_y0],[_x1,_y0],[_x1,_y1],[_x0,_y1]])\n",
    "for k,v in router.G.edges:\n",
    "    try:\n",
    "        line_idx=np.where(np.sum(router.end_to_end_connections==k,axis=1) + np.sum(router.end_to_end_connections==v,axis=1) == 2)[0][0]\n",
    "        linest=router.all_lines.geoms[line_idx]\n",
    "        if linest.intersects(ax2_fov): #reduce time to plot & fig memory\n",
    "            ax2.plot(*linest.xy,linestyle='dashed',color='k',linewidth=.5)\n",
    "    except:\n",
    "        continue\n",
    "\n",
    "\n",
    "\n",
    "#top part of routing\n",
    "sorted_leftright=np.argsort([float(el.xy[0][0]) for el in pad_points.geoms])\n",
    "staircase=np.cumsum( np.ones(len(electrode_xy[0]))*(-np.sign(2*(np.arange(len(electrode_xy[0]))//10) -1))) #1,2,3,4,...,4,3,2,1\n",
    "for n,idx in enumerate(sorted_leftright):\n",
    "    pt=pad_points.geoms[idx]\n",
    "    linestring = sh.LineString([pt,\n",
    "                                sh.Point(pt.x,pt.y+250+3*staircase[n]),\n",
    "                                sh.Point(pt.x-171+19*n,pt.y+250+3*staircase[n]),\n",
    "                                sh.Point(pt.x-171+19*n,970)])\n",
    "    ax1.add_patch(Rectangle(xy=[pt.x-171+19*n-6,940],width=12,height=32,color='gold'))\n",
    "    ax1.plot(*linestring.xy,color='gold',linewidth=.5)\n",
    "    ax1.plot(*router.all_elec_pad_routes[n].xy,color='gold',linewidth=.5)\n",
    "    ax2.plot(*router.all_elec_pad_routes[n].xy,color='gold')\n",
    "    ax2.plot(electrode_xy[0][n],electrode_xy[1][n],'o',markersize=15,color='gold')\n",
    "ax1.plot(*shapely_device.exterior.xy)\n",
    "plt.savefig('fig2b.svg',dpi=300)"
   ]
  },
  {
   "cell_type": "code",
   "execution_count": null,
   "id": "7c7af77e-675c-4d3c-b1c1-a325720ba2e5",
   "metadata": {},
   "outputs": [],
   "source": []
  },
  {
   "cell_type": "code",
   "execution_count": null,
   "id": "726d2cac-5ce7-4d9a-83c4-c3d70a16ae15",
   "metadata": {},
   "outputs": [],
   "source": []
  }
 ],
 "metadata": {
  "kernelspec": {
   "display_name": "Python 3 (ipykernel)",
   "language": "python",
   "name": "python3"
  },
  "language_info": {
   "codemirror_mode": {
    "name": "ipython",
    "version": 3
   },
   "file_extension": ".py",
   "mimetype": "text/x-python",
   "name": "python",
   "nbconvert_exporter": "python",
   "pygments_lexer": "ipython3",
   "version": "3.12.2"
  }
 },
 "nbformat": 4,
 "nbformat_minor": 5
}
