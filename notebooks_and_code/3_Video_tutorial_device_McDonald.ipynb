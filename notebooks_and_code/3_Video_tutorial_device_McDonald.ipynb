{
 "cells": [
  {
   "cell_type": "code",
   "execution_count": 1,
   "id": "017e49e8",
   "metadata": {},
   "outputs": [],
   "source": [
    "import shapely \n",
    "import phidl.geometry as pg\n",
    "from phidl.path import Path,CrossSection\n",
    "import numpy as np\n",
    "import matplotlib.pyplot as plt\n",
    "from phidl.quickplotter import quickplot2 as qp\n",
    "import utilities as util\n",
    "%matplotlib qt"
   ]
  },
  {
   "cell_type": "code",
   "execution_count": 2,
   "id": "1d0342ad",
   "metadata": {},
   "outputs": [],
   "source": [
    "elec_diam=25\n",
    "width_ring = 20\n",
    "n_arms = 8\n",
    "n_rings = 5\n",
    "width_lastring = 50\n",
    "l_arm = 1000\n",
    "width_arm_end = 125\n",
    "n_electrodes_per_ring = [1,8,12,16,24]\n"
   ]
  },
  {
   "cell_type": "code",
   "execution_count": 3,
   "id": "c3eddff9",
   "metadata": {},
   "outputs": [],
   "source": [
    "def arm(l_arm,elec_diam,width2):\n",
    "    return pg.taper(length=l_arm,width1=0.7*elec_diam,width2=width2)\n",
    "\n",
    "device=pg.Device()\n",
    "elec_pos_xy=[]\n",
    "\n",
    "for i in range(n_arms):\n",
    "    device<< arm(l_arm,elec_diam,125).rotate(360//8*i)\n",
    "    if i<n_rings:\n",
    "        if i==n_rings-1:\n",
    "            width=width_lastring\n",
    "        else:\n",
    "            width=width_ring\n",
    "        device<< pg.ring(radius=(i+1)*l_arm//n_rings, width=width)\n",
    "\n",
    "\n",
    "device<<pg.circle(radius=elec_diam/2)\n",
    "for ring_idx,n_elecs in enumerate(n_electrodes_per_ring):\n",
    "    angle = np.linspace(0,2*np.pi,n_elecs+1)[:-1] + np.pi/n_elecs\n",
    "    r=l_arm//n_rings*(ring_idx)\n",
    "    x_l,y_l = np.cos(angle)*r,np.sin(angle)*r\n",
    "    for x_,y_ in zip(x_l,y_l):\n",
    "        device<<pg.circle(radius=elec_diam/2+10).movex(x_).movey(y_)\n",
    "        elec_pos_xy.append([x_,y_])"
   ]
  },
  {
   "cell_type": "code",
   "execution_count": 4,
   "id": "e38fd075",
   "metadata": {},
   "outputs": [
    {
     "data": {
      "text/plain": [
       "<phidl.quickplotter.Viewer at 0x7f4fff904940>"
      ]
     },
     "execution_count": 4,
     "metadata": {},
     "output_type": "execute_result"
    }
   ],
   "source": [
    "qp(device)"
   ]
  },
  {
   "cell_type": "code",
   "execution_count": 5,
   "id": "9c60ae64",
   "metadata": {},
   "outputs": [],
   "source": [
    "sh_dev = util.phidl_to_shapely(device).buffer(5).buffer(-5)"
   ]
  },
  {
   "cell_type": "code",
   "execution_count": 6,
   "id": "1915b720",
   "metadata": {},
   "outputs": [],
   "source": [
    "router = util.RoutingLayout(sh_dev,border_tolerance=5)"
   ]
  },
  {
   "cell_type": "code",
   "execution_count": 7,
   "id": "5eb97f23",
   "metadata": {},
   "outputs": [],
   "source": [
    "router.lay_down_lines(n_lines=7,gap_um=5)"
   ]
  },
  {
   "cell_type": "code",
   "execution_count": 8,
   "id": "09f6ac85",
   "metadata": {},
   "outputs": [],
   "source": [
    "elec_boundaries=[]\n",
    "elec_additional_pts=[]\n",
    "\n",
    "for x,y in elec_pos_xy:\n",
    "    elec_boundary=util.phidl_to_shapely(pg.circle(radius=elec_diam/4).movex(x).movey(y)).boundary\n",
    "    t=np.arctan2(y,x)\n",
    "    r=np.sqrt(x**2+y**2)\n",
    "    p1 = shapely.Point( (r+25)*np.cos(t),(r+25)*np.sin(t))\n",
    "    p2 = shapely.Point( (r-25)*np.cos(t), (r-25)*np.sin(t))\n",
    "    extra_points = shapely.MultiPoint( [p1,p2] )\n",
    "    elec_boundaries.append(elec_boundary)\n",
    "    elec_additional_pts.append(extra_points)"
   ]
  },
  {
   "cell_type": "code",
   "execution_count": 9,
   "id": "9586ed00",
   "metadata": {},
   "outputs": [],
   "source": [
    "router.add_electrodes(elec_boundaries,elec_additional_pts,type='electrode')"
   ]
  },
  {
   "cell_type": "code",
   "execution_count": 10,
   "id": "d5aa1140",
   "metadata": {},
   "outputs": [],
   "source": [
    "n_total_elecs = len(elec_pos_xy)\n",
    "pad_boundaries=[]\n",
    "pad_extra_points=[]\n",
    "for i in range(n_total_elecs):\n",
    "    angle = 2*np.pi/(n_total_elecs+1)*i\n",
    "    r = l_arm + width_lastring/2\n",
    "    x,y=np.cos(angle)*r,np.sin(angle)*r\n",
    "    boundary = shapely.Point(x,y).buffer(1).boundary\n",
    "    extra_points = shapely.MultiPoint( [shapely.Point( (r-width_lastring)*np.cos(angle),(r-width_lastring)*np.sin(angle))])\n",
    "    pad_boundaries.append(boundary)\n",
    "    pad_extra_points.append(extra_points)\n",
    "router.add_electrodes(pad_boundaries,pad_extra_points,type='pad')"
   ]
  },
  {
   "cell_type": "code",
   "execution_count": 11,
   "id": "1e13b77e",
   "metadata": {},
   "outputs": [
    {
     "name": "stdout",
     "output_type": "stream",
     "text": [
      "Routing successful\n"
     ]
    }
   ],
   "source": [
    "router.route()"
   ]
  },
  {
   "cell_type": "code",
   "execution_count": 12,
   "id": "3c6b2ef1",
   "metadata": {},
   "outputs": [
    {
     "data": {
      "text/plain": [
       "DeviceReference (parent Device \"boolean\", ports [], origin (0, 0), rotation 0, x_reflection False)"
      ]
     },
     "execution_count": 12,
     "metadata": {},
     "output_type": "execute_result"
    }
   ],
   "source": [
    "lines=util.multilinestrings_to_phidl(shapely.unary_union(router.all_elec_pad_routes_smooth),width=2,layer=1)\n",
    "final_device=pg.Device()\n",
    "final_device<<device\n",
    "electrodes=pg.Device()\n",
    "for x,y in elec_pos_xy:\n",
    "    electrodes<<pg.circle(radius=10,layer=1).movex(x).movey(y)\n",
    "final_device<<electrodes\n",
    "final_device<<lines\n",
    "final_device<<pg.boolean(device,electrodes,operation='A-B',layer=2)"
   ]
  },
  {
   "cell_type": "code",
   "execution_count": 13,
   "id": "a367e938",
   "metadata": {},
   "outputs": [
    {
     "data": {
      "text/plain": [
       "'Example_McDonald.gds'"
      ]
     },
     "execution_count": 13,
     "metadata": {},
     "output_type": "execute_result"
    }
   ],
   "source": [
    "final_device.write_gds('Example_McDonald.gds')"
   ]
  },
  {
   "cell_type": "code",
   "execution_count": 14,
   "id": "205dfb4a",
   "metadata": {},
   "outputs": [
    {
     "data": {
      "text/plain": [
       "<phidl.quickplotter.Viewer at 0x7f4fff904940>"
      ]
     },
     "execution_count": 14,
     "metadata": {},
     "output_type": "execute_result"
    }
   ],
   "source": [
    "qp(final_device)"
   ]
  },
  {
   "cell_type": "code",
   "execution_count": null,
   "id": "9df11754",
   "metadata": {},
   "outputs": [],
   "source": []
  }
 ],
 "metadata": {
  "kernelspec": {
   "display_name": "Python 3 (ipykernel)",
   "language": "python",
   "name": "python3"
  },
  "language_info": {
   "codemirror_mode": {
    "name": "ipython",
    "version": 3
   },
   "file_extension": ".py",
   "mimetype": "text/x-python",
   "name": "python",
   "nbconvert_exporter": "python",
   "pygments_lexer": "ipython3",
   "version": "3.11.3"
  }
 },
 "nbformat": 4,
 "nbformat_minor": 5
}
